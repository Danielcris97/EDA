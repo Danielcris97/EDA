{
 "cells": [
  {
   "cell_type": "markdown",
   "id": "9001a6ff",
   "metadata": {},
   "source": [
    "### Análisis exploratorio de datos"
   ]
  }
 ],
 "metadata": {
  "language_info": {
   "name": "python"
  }
 },
 "nbformat": 4,
 "nbformat_minor": 5
}
